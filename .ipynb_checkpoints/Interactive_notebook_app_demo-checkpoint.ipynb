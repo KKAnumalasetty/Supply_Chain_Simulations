{
 "cells": [
  {
   "cell_type": "code",
   "execution_count": null,
   "metadata": {},
   "outputs": [],
   "source": [
    "import panel as pn\n",
    "pn.extension()\n",
    "import matplotlib\n",
    "matplotlib.use('agg')\n",
    "import matplotlib.pyplot as plt\n",
    "\n",
    "def mplplot(df, **kwargs):\n",
    "    fig = df.plot().get_figure()\n",
    "    plt.close(fig)\n",
    "    return fig\n",
    "\n",
    "def sine(frequency=1.0, amplitude=1.0, n=200, view_fn=mplplot):\n",
    "    #return the sine given inputs\n",
    "    xs = np.arange(n)/n*20.0\n",
    "    ys = amplitude*np.sin(frequency*xs)\n",
    "    df = pd.DataFrame(dict(y=ys), index=xs)\n",
    "    return view_fn(df, frequency=frequency, amplitude=amplitude, n=n)\n",
    "\n",
    "pn.interact(sine)"
   ]
  }
 ],
 "metadata": {
  "kernelspec": {
   "display_name": "Python 3",
   "language": "python",
   "name": "python3"
  },
  "language_info": {
   "codemirror_mode": {
    "name": "ipython",
    "version": 3
   },
   "file_extension": ".py",
   "mimetype": "text/x-python",
   "name": "python",
   "nbconvert_exporter": "python",
   "pygments_lexer": "ipython3",
   "version": "3.7.4"
  },
  "toc": {
   "base_numbering": 1,
   "nav_menu": {},
   "number_sections": true,
   "sideBar": true,
   "skip_h1_title": false,
   "title_cell": "Table of Contents",
   "title_sidebar": "Contents",
   "toc_cell": false,
   "toc_position": {},
   "toc_section_display": true,
   "toc_window_display": false
  }
 },
 "nbformat": 4,
 "nbformat_minor": 2
}
